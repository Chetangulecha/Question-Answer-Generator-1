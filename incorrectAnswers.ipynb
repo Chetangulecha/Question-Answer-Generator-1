{
 "cells": [
  {
   "cell_type": "code",
   "execution_count": 9,
   "id": "cf1b13f8",
   "metadata": {},
   "outputs": [],
   "source": [
    "import _pickle as cPickle\n",
    "from pathlib import Path\n",
    "\n",
    "def dumpPickle(fileName, content):\n",
    "    pickleFile = open(fileName, 'wb')\n",
    "    cPickle.dump(content, pickleFile, -1)\n",
    "    pickleFile.close()\n",
    "\n",
    "def loadPickle(fileName):    \n",
    "    file = open(fileName, 'rb')\n",
    "    content = cPickle.load(file)\n",
    "    file.close()\n",
    "    \n",
    "    return content\n",
    "    \n",
    "def pickleExists(fileName):\n",
    "    file = Path(fileName)\n",
    "    \n",
    "    if file.is_file():\n",
    "        return True\n",
    "    \n",
    "    return False"
   ]
  },
  {
   "cell_type": "code",
   "execution_count": 10,
   "id": "3176ed64",
   "metadata": {},
   "outputs": [],
   "source": [
    "import gensim\n",
    "from gensim.test.utils import datapath, get_tmpfile\n",
    "from gensim.models import KeyedVectors"
   ]
  },
  {
   "cell_type": "code",
   "execution_count": 13,
   "id": "4bca5428",
   "metadata": {},
   "outputs": [],
   "source": [
    "glove_file = './data/embeddings/glove.6B.50d.txt'\n",
    "tmp_file = './data/embeddings/word2vec-glove.6B.50d.txt'"
   ]
  },
  {
   "cell_type": "code",
   "execution_count": 14,
   "id": "310bea0b",
   "metadata": {},
   "outputs": [],
   "source": [
    "import os\n",
    "\n",
    "if not os.path.isfile(glove_file):\n",
    "    print(\"Glove embeddings not found. Please download and place them in the following path: \" + glove_file)"
   ]
  },
  {
   "cell_type": "code",
   "execution_count": 15,
   "id": "328c0fdb",
   "metadata": {},
   "outputs": [],
   "source": [
    "from gensim.scripts.glove2word2vec import glove2word2vec\n",
    "glove2word2vec(glove_file, tmp_file)\n",
    "model = KeyedVectors.load_word2vec_format(tmp_file)"
   ]
  },
  {
   "cell_type": "code",
   "execution_count": 16,
   "id": "73c9c076",
   "metadata": {},
   "outputs": [],
   "source": [
    "predictorIncorrect = './data/pickles/model.pkl'\n",
    "dumpPickle(predictorIncorrect, model)"
   ]
  },
  {
   "cell_type": "code",
   "execution_count": 17,
   "id": "0c47fef7",
   "metadata": {},
   "outputs": [
    {
     "data": {
      "text/plain": [
       "[('probo', 0.8641868829727173),\n",
       " ('porpoise', 0.6934725046157837),\n",
       " ('rhinoceros', 0.6881077289581299),\n",
       " ('hippopotamus', 0.6699951887130737),\n",
       " ('owl', 0.6683387160301208),\n",
       " ('giraffe', 0.665993332862854),\n",
       " ('orangutan', 0.6645101308822632),\n",
       " ('carcass', 0.6588355302810669),\n",
       " ('sumatran', 0.6577897667884827),\n",
       " ('oryx', 0.6546849012374878)]"
      ]
     },
     "execution_count": 17,
     "metadata": {},
     "output_type": "execute_result"
    }
   ],
   "source": [
    "model.most_similar(positive=['koala'], topn=10)"
   ]
  },
  {
   "cell_type": "code",
   "execution_count": 18,
   "id": "06593c2c",
   "metadata": {},
   "outputs": [
    {
     "data": {
      "text/plain": [
       "[('hydrogen', 0.808455765247345),\n",
       " ('liquid', 0.7736512422561646),\n",
       " ('nitrogen', 0.7624309659004211),\n",
       " ('chlorine', 0.7590859532356262),\n",
       " ('helium', 0.752963125705719),\n",
       " ('ammonia', 0.7375549077987671),\n",
       " ('methane', 0.731142520904541),\n",
       " ('blood', 0.722781777381897),\n",
       " ('nutrients', 0.7218273282051086),\n",
       " ('fluids', 0.7213950157165527)]"
      ]
     },
     "execution_count": 18,
     "metadata": {},
     "output_type": "execute_result"
    }
   ],
   "source": [
    "model.most_similar(positive=['oxygen'], topn=10)"
   ]
  },
  {
   "cell_type": "code",
   "execution_count": 19,
   "id": "b0e92013",
   "metadata": {},
   "outputs": [
    {
     "data": {
      "text/plain": [
       "[('1943', 0.9888142943382263),\n",
       " ('1942', 0.9829348921775818),\n",
       " ('1941', 0.9744484424591064),\n",
       " ('1945', 0.9693483114242554),\n",
       " ('1940', 0.967719554901123),\n",
       " ('1916', 0.9390915036201477),\n",
       " ('1917', 0.9382231831550598),\n",
       " ('1915', 0.9366674423217773),\n",
       " ('1918', 0.9296469688415527),\n",
       " ('1939', 0.9279517531394958)]"
      ]
     },
     "execution_count": 19,
     "metadata": {},
     "output_type": "execute_result"
    }
   ],
   "source": [
    "model.most_similar(positive=['1944'], topn=10)"
   ]
  },
  {
   "cell_type": "code",
   "execution_count": 20,
   "id": "501204f2",
   "metadata": {},
   "outputs": [],
   "source": [
    "def generate_distractors(answer, count):\n",
    "    answer = str.lower(answer)\n",
    "    \n",
    "    ##Extracting closest words for the answer. \n",
    "    try:\n",
    "        closestWords = model.most_similar(positive=[answer], topn=count)\n",
    "    except:\n",
    "        #In case the word is not in the vocabulary, or other problem not loading embeddings\n",
    "        return []\n",
    "\n",
    "    #Return count many distractors\n",
    "    distractors = list(map(lambda x: x[0], closestWords))[0:count]\n",
    "    \n",
    "    return distractors"
   ]
  },
  {
   "cell_type": "code",
   "execution_count": 21,
   "id": "91e282c6",
   "metadata": {},
   "outputs": [
    {
     "data": {
      "text/plain": [
       "['hydrogen', 'liquid', 'nitrogen', 'chlorine']"
      ]
     },
     "execution_count": 21,
     "metadata": {},
     "output_type": "execute_result"
    }
   ],
   "source": [
    "generate_distractors('oxygen', 4)"
   ]
  },
  {
   "cell_type": "code",
   "execution_count": 22,
   "id": "84cebc61",
   "metadata": {},
   "outputs": [
    {
     "data": {
      "text/plain": [
       "['indian',\n",
       " 'pakistan',\n",
       " 'malaysia',\n",
       " 'bangladesh',\n",
       " 'delhi',\n",
       " 'indonesia',\n",
       " 'thailand']"
      ]
     },
     "execution_count": 22,
     "metadata": {},
     "output_type": "execute_result"
    }
   ],
   "source": [
    "generate_distractors('india', 7)"
   ]
  },
  {
   "cell_type": "code",
   "execution_count": null,
   "id": "592ca862",
   "metadata": {},
   "outputs": [],
   "source": []
  }
 ],
 "metadata": {
  "kernelspec": {
   "display_name": "Python 3",
   "language": "python",
   "name": "python3"
  },
  "language_info": {
   "codemirror_mode": {
    "name": "ipython",
    "version": 3
   },
   "file_extension": ".py",
   "mimetype": "text/x-python",
   "name": "python",
   "nbconvert_exporter": "python",
   "pygments_lexer": "ipython3",
   "version": "3.6.13"
  }
 },
 "nbformat": 4,
 "nbformat_minor": 5
}
